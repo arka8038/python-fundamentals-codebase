{
 "cells": [
  {
   "cell_type": "code",
   "execution_count": null,
   "id": "5165be2f",
   "metadata": {},
   "outputs": [],
   "source": [
    "## Creating Dictionaries\n",
    "d = {\"key1\": \"value1\", \"key2\": \"value2\"}\n",
    "## or\n",
    "d = dict(key1=\"value1\", key2=\"value2\")\n",
    "## or\n",
    "d = dict([(\"key1\", \"value1\"), (\"key2\", \"value2\")])"
   ]
  },
  {
   "cell_type": "code",
   "execution_count": null,
   "id": "b171e126",
   "metadata": {},
   "outputs": [
    {
     "name": "stdout",
     "output_type": "stream",
     "text": [
      "value1 value2 None\n"
     ]
    }
   ],
   "source": [
    "# Accessing dictionaires\n",
    "\n",
    "d = {\"key1\": \"value1\", \"key2\": \"value2\", \"key3\": \"value3\"}\n",
    "\n",
    "a = d[\"key1\"] ## this will return value1\n",
    "b = d.get(\"key2\") ## this will return value1\n",
    "\n",
    "c = d.get(\"key3\") ## this will return None\n",
    "# d = d.get(key2) ## this will throw an error\n",
    "\n",
    "print(a, b, c)"
   ]
  },
  {
   "cell_type": "code",
   "execution_count": null,
   "id": "fe75083c",
   "metadata": {},
   "outputs": [
    {
     "name": "stdout",
     "output_type": "stream",
     "text": [
      "value1\n",
      "value2\n",
      "value3\n"
     ]
    }
   ],
   "source": [
    "## Accessing all values in a dictionary (using .values())\n",
    "\n",
    "d = {\"key1\": \"value1\", \"key2\": \"value2\", \"key3\": \"value3\"}\n",
    "\n",
    "for value in d.values():\n",
    "    print(value)"
   ]
  },
  {
   "cell_type": "code",
   "execution_count": null,
   "id": "9f2120c2",
   "metadata": {},
   "outputs": [
    {
     "name": "stdout",
     "output_type": "stream",
     "text": [
      "key1\n",
      "key2\n",
      "key3\n"
     ]
    }
   ],
   "source": [
    "d = {\"key1\": \"value1\", \"key2\": \"value2\", \"key3\": \"value3\"}\n",
    "\n",
    "## Accessing all keys in a dictionary (using .keys())\n",
    "for key in d.keys():\n",
    "    print(key)"
   ]
  },
  {
   "cell_type": "code",
   "execution_count": null,
   "id": "fc237356",
   "metadata": {},
   "outputs": [
    {
     "name": "stdout",
     "output_type": "stream",
     "text": [
      "dict_items([('key1', 'value1'), ('key2', 'value2'), ('key3', 'value3')])\n",
      "\n",
      "\n",
      "Key: key1 and value: value1\n",
      "\n",
      "\n",
      "Key: key2 and value: value2\n",
      "\n",
      "\n",
      "Key: key3 and value: value3\n",
      "\n",
      "\n"
     ]
    }
   ],
   "source": [
    "d = {\"key1\": \"value1\", \"key2\": \"value2\", \"key3\": \"value3\"}\n",
    "\n",
    "## Accessing all items in a dictionary (using .items())\n",
    "print(d.items())\n",
    "print(\"\\n\")\n",
    "\n",
    "for key, value in d.items():\n",
    "    print(f\"Key: {key} and value: {value}\")\n",
    "    print(\"\\n\")"
   ]
  },
  {
   "cell_type": "code",
   "execution_count": null,
   "id": "4f0435d4",
   "metadata": {},
   "outputs": [
    {
     "name": "stdout",
     "output_type": "stream",
     "text": [
      "True\n",
      "False\n",
      "True\n",
      "False\n"
     ]
    }
   ],
   "source": [
    "d = {\"key1\": \"value1\", \"key2\": \"value2\", \"key3\": \"value3\"}\n",
    "\n",
    "## Check whether a key exists in a dictionary (in keyword)\n",
    "print(\"key1\" in d)\n",
    "print(\"key4\" in d)\n",
    "\n",
    "## Check whether a value exists in a dictionary\n",
    "print(\"value1\" in d.values())\n",
    "print(\"value4\" in d.values())"
   ]
  },
  {
   "cell_type": "code",
   "execution_count": null,
   "id": "6da941fc",
   "metadata": {},
   "outputs": [
    {
     "name": "stdout",
     "output_type": "stream",
     "text": [
      "{}\n"
     ]
    }
   ],
   "source": [
    "## Clear/delete all items from the dictionary\n",
    "d = {\"key1\": \"value1\", \"key2\": \"value2\", \"key3\": \"value3\"}\n",
    "d.clear()\n",
    "print(d)"
   ]
  },
  {
   "cell_type": "code",
   "execution_count": 26,
   "id": "474559bd",
   "metadata": {},
   "outputs": [
    {
     "name": "stdout",
     "output_type": "stream",
     "text": [
      "{'key1': 'value1', 'key2': 'value2', 'key3': 'value3'}\n",
      "False\n",
      "True\n"
     ]
    }
   ],
   "source": [
    "## Copying a dictionary\n",
    "d1 = {\"key1\": \"value1\", \"key2\": \"value2\", \"key3\": \"value3\"}\n",
    "d2 = d1.copy()\n",
    "print(d2)\n",
    "print(d1 is d2) ## not the same object in memory\n",
    "print(d1 == d2) ## equality in values"
   ]
  },
  {
   "cell_type": "code",
   "execution_count": 32,
   "id": "b4fe4506",
   "metadata": {},
   "outputs": [
    {
     "name": "stdout",
     "output_type": "stream",
     "text": [
      "{'key1': 'value', 'key2': 'value', 'key3': 'value'}\n",
      "{'pasta': 'value'}\n",
      "{'p': 'sphagetti', 'a': 'sphagetti', 's': 'sphagetti', 't': 'sphagetti'}\n"
     ]
    }
   ],
   "source": [
    "## Creating a dictionary with default values for a collection of keys\n",
    "# Using the `fromkeys()` method to create a dictionary where all specified keys have the same default value\n",
    "d = {}.fromkeys([\"key1\", \"key2\", \"key3\"], \"value\")  # Creates a dictionary with keys \"key1\", \"key2\", \"key3\" and assigns \"value\" to each key\n",
    "\n",
    "# Example 1: Creating a new dictionary from an existing one with a single key-value pair\n",
    "k = d.fromkeys([\"pasta\"], \"value\")  # Creates a dictionary with the key \"pasta\" and assigns \"value\" to it\n",
    "\n",
    "# Example 2: Using a string as an iterable to create keys in the dictionary\n",
    "x = {}.fromkeys('pasta', 'sphagetti')  # Each character in the string \"pasta\" becomes a key, and all keys are assigned the value \"sphagetti\"\n",
    "\n",
    "# Example 3: Printing the dictionaries to verify their contents\n",
    "print(d)  # Outputs: {'key1': 'value', 'key2': 'value', 'key3': 'value'}\n",
    "print(k) # Outputs: {'pasta': 'value'}\n",
    "print(x)  # Outputs: {'p': 'sphagetti', 'a': 'sphagetti', 's': 'sphagetti', 't': 'sphagetti'}\n"
   ]
  },
  {
   "cell_type": "code",
   "execution_count": 34,
   "id": "72923f08",
   "metadata": {},
   "outputs": [
    {
     "name": "stdout",
     "output_type": "stream",
     "text": [
      "{'key2': 'value2', 'key3': 'value3'}\n"
     ]
    }
   ],
   "source": [
    "d = {\"key1\": \"value1\", \"key2\": \"value2\", \"key3\": \"value3\"}\n",
    "\n",
    "## Removing an item from a dictionary via key\n",
    "d.pop(\"key1\")\n",
    "print(d)"
   ]
  },
  {
   "cell_type": "code",
   "execution_count": 36,
   "id": "9044607e",
   "metadata": {},
   "outputs": [
    {
     "name": "stdout",
     "output_type": "stream",
     "text": [
      "('key3', 'value3')\n"
     ]
    }
   ],
   "source": [
    "d = {\"key1\": \"value1\", \"key2\": \"value2\", \"key3\": \"value3\"}\n",
    "\n",
    "## Pop an item from a dictionary via key(from the last k, v pair). it returns a tuple (k, v)\n",
    "item = d.popitem()\n",
    "print(item)\n"
   ]
  },
  {
   "cell_type": "code",
   "execution_count": null,
   "id": "4c75be37",
   "metadata": {},
   "outputs": [
    {
     "name": "stdout",
     "output_type": "stream",
     "text": [
      "{'key1': 'value1', 'key2': 'value2', 'key3': 'value3'}\n",
      "{'pasta': 'sphagetti', 'key1': 'value1', 'key2': 'value2', 'key3': 'value3'}\n"
     ]
    }
   ],
   "source": [
    "d1 = {\"key1\": \"value1\", \"key2\": \"value2\", \"key3\": \"value3\"}\n",
    "d2 = {}\n",
    "d3 = {'pasta': 'sphagetti'}\n",
    "\n",
    "# Update d2 with the contents of d1\n",
    "d2.update(d1)\n",
    "\n",
    "# Append the contents of d1 to d3 (existing keys in d3 will be overwritten)\n",
    "d3.update(d1)\n",
    "\n",
    "# Print the updated dictionaries\n",
    "print(d2)\n",
    "print(d3)"
   ]
  },
  {
   "cell_type": "code",
   "execution_count": null,
   "id": "1271ada1",
   "metadata": {},
   "outputs": [],
   "source": []
  }
 ],
 "metadata": {
  "kernelspec": {
   "display_name": "Python 3",
   "language": "python",
   "name": "python3"
  },
  "language_info": {
   "codemirror_mode": {
    "name": "ipython",
    "version": 3
   },
   "file_extension": ".py",
   "mimetype": "text/x-python",
   "name": "python",
   "nbconvert_exporter": "python",
   "pygments_lexer": "ipython3",
   "version": "3.12.6"
  }
 },
 "nbformat": 4,
 "nbformat_minor": 5
}
