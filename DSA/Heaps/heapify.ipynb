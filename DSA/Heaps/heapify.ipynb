{
 "cells": [
  {
   "cell_type": "markdown",
   "metadata": {},
   "source": [
    "### Heaps (Priority Queue)"
   ]
  },
  {
   "cell_type": "code",
   "execution_count": 30,
   "metadata": {},
   "outputs": [],
   "source": [
    "## heap library\n",
    "import heapq "
   ]
  },
  {
   "cell_type": "code",
   "execution_count": 31,
   "metadata": {},
   "outputs": [],
   "source": [
    "A = [-4, 3, 1, 0, 2, 5, 10, 8, 12, 9]"
   ]
  },
  {
   "cell_type": "code",
   "execution_count": 32,
   "metadata": {},
   "outputs": [
    {
     "name": "stdout",
     "output_type": "stream",
     "text": [
      "[-4, 0, 1, 3, 2, 5, 10, 8, 12, 9]\n"
     ]
    }
   ],
   "source": [
    "# Heapify\n",
    "# Time: O(n), Space: O(1)\n",
    "heapq.heapify(A)\n",
    "print(A)"
   ]
  },
  {
   "cell_type": "code",
   "execution_count": 33,
   "metadata": {},
   "outputs": [
    {
     "name": "stdout",
     "output_type": "stream",
     "text": [
      "[-4, 0, 1, 3, 2, 5, 10, 8, 12, 9, 4]\n"
     ]
    }
   ],
   "source": [
    "# Heaph Push\n",
    "# Time: O(logn)\n",
    "heapq.heappush(A, 4)\n",
    "print(A)"
   ]
  },
  {
   "cell_type": "code",
   "execution_count": 34,
   "metadata": {},
   "outputs": [
    {
     "name": "stdout",
     "output_type": "stream",
     "text": [
      "[0, 2, 1, 3, 4, 5, 10, 8, 12, 9]\n"
     ]
    }
   ],
   "source": [
    "# Heap Pop\n",
    "# Time: O(logn)\n",
    "min = heapq.heappop(A)\n",
    "print(A)"
   ]
  },
  {
   "cell_type": "code",
   "execution_count": 35,
   "metadata": {},
   "outputs": [
    {
     "name": "stdout",
     "output_type": "stream",
     "text": [
      "[1, 2, 5, 3, 4, 100, 10, 8, 12, 9]\n"
     ]
    }
   ],
   "source": [
    "# Heap Push n Pop (Pushes the ele and pops the topmost ele)\n",
    "# Time: O(logn)\n",
    "min = heapq.heappushpop(A, 100)\n",
    "print(A)"
   ]
  },
  {
   "cell_type": "code",
   "execution_count": 36,
   "metadata": {},
   "outputs": [
    {
     "data": {
      "text/plain": [
       "[-4, 0, 1, 2, 3, 5, 8, 9, 10, 12]"
      ]
     },
     "execution_count": 36,
     "metadata": {},
     "output_type": "execute_result"
    }
   ],
   "source": [
    "# Heap Sort\n",
    "# Time: O(nlogn), Space: O(n)\n",
    "# NOTE: O(1) space is possible via swapping, but this is complex\n",
    "\n",
    "arr = [-4, 3, 1, 0, 2, 5, 10, 8, 12, 9]\n",
    "\n",
    "def heap_sort(arr):\n",
    "    heapq.heapify(arr)\n",
    "    n = len(arr)\n",
    "    new_list = [0] * n\n",
    "    \n",
    "    for i in range(n):\n",
    "        minn = heapq.heappop(arr)\n",
    "        new_list[i] = minn\n",
    "        \n",
    "    return new_list   \n",
    "\n",
    "heap_sort(arr)\n",
    " "
   ]
  }
 ],
 "metadata": {
  "kernelspec": {
   "display_name": "Python 3",
   "language": "python",
   "name": "python3"
  },
  "language_info": {
   "codemirror_mode": {
    "name": "ipython",
    "version": 3
   },
   "file_extension": ".py",
   "mimetype": "text/x-python",
   "name": "python",
   "nbconvert_exporter": "python",
   "pygments_lexer": "ipython3",
   "version": "3.12.6"
  }
 },
 "nbformat": 4,
 "nbformat_minor": 2
}
