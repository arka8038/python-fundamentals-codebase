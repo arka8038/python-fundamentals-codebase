{
 "cells": [
  {
   "cell_type": "markdown",
   "id": "08640283",
   "metadata": {},
   "source": [
    "## Inheritence"
   ]
  },
  {
   "cell_type": "code",
   "execution_count": 9,
   "id": "579acb4e",
   "metadata": {},
   "outputs": [
    {
     "name": "stdout",
     "output_type": "stream",
     "text": [
      "True\n",
      "Cat makes sound: Meow\n",
      "True\n",
      "True\n",
      "True\n"
     ]
    }
   ],
   "source": [
    "class Animal:\n",
    "    cool = True\n",
    "    \n",
    "    def make_sound(self, sound):\n",
    "        print(f\"{self.__class__.__name__} makes sound: {sound}\")\n",
    "        \n",
    "class Cat(Animal):\n",
    "    pass\n",
    "\n",
    "blue = Cat()\n",
    "\n",
    "print(blue.cool)   \n",
    "blue.make_sound(\"Meow\")\n",
    "\n",
    "print(isinstance(blue, Animal))\n",
    "print(isinstance(blue, Cat))\n",
    "\n",
    "print(isinstance(blue, object))"
   ]
  },
  {
   "cell_type": "markdown",
   "id": "2d99e30e",
   "metadata": {},
   "source": [
    "## @Property - Syntactic sugar for getters and setters in a class"
   ]
  },
  {
   "cell_type": "code",
   "execution_count": 16,
   "id": "0e0be6a3",
   "metadata": {},
   "outputs": [
    {
     "name": "stdout",
     "output_type": "stream",
     "text": [
      "30\n",
      "Jane Doe\n",
      "40\n",
      "Joe Smith\n"
     ]
    }
   ],
   "source": [
    "class Human:\n",
    "    def __init__(self, first, last, age):\n",
    "        self.first = first\n",
    "        self.last = last\n",
    "        \n",
    "        if age >= 0:\n",
    "            self._age = age\n",
    "        else:\n",
    "            raise ValueError(\"Age cannot be negative\")\n",
    "    \n",
    "    @property\n",
    "    def age(self):\n",
    "        return self._age\n",
    "    \n",
    "    @age.setter\n",
    "    def age(self, value):\n",
    "        if value >= 0:\n",
    "            self._age = value\n",
    "        else:\n",
    "            raise ValueError(\"Age cannot be negative\")    \n",
    "        \n",
    "    @property\n",
    "    def full_name(self):\n",
    "        return f\"{self.first} {self.last}\"   \n",
    "    \n",
    "    @full_name.setter\n",
    "    def full_name(self, new_name):  \n",
    "        self.first, self.last = new_name.split(\" \")\n",
    "        \n",
    "        \n",
    "jane = Human(\"Jane\", \"Doe\", 30) \n",
    "\n",
    "print(jane.age)\n",
    "print(jane.full_name)   \n",
    "\n",
    "# jane.age = -100\n",
    "# print(jane.age)  # Uncommenting this line will raise a ValueError\n",
    "jane.age = 40\n",
    "print(jane.age)\n",
    "jane.full_name = \"Joe Smith\" \n",
    "print(jane.full_name)\n",
    "        \n",
    "        "
   ]
  },
  {
   "cell_type": "markdown",
   "id": "b77d25c9",
   "metadata": {},
   "source": [
    "## 'super' keyword"
   ]
  },
  {
   "cell_type": "code",
   "execution_count": 22,
   "id": "77f800ac",
   "metadata": {},
   "outputs": [
    {
     "name": "stdout",
     "output_type": "stream",
     "text": [
      "Blue\n",
      "Cat\n",
      "Siamese\n",
      "Cat Blue plays with Mouse toy\n"
     ]
    }
   ],
   "source": [
    "class Animal:\n",
    "    def __init__(self, name, species):\n",
    "        self.name = name\n",
    "        self.species = species\n",
    "    \n",
    "    def make_sound(self, sound):\n",
    "        print(f\"{self.__class__.__name__} makes sound: {sound}\")\n",
    "        \n",
    "class Cat(Animal):\n",
    "    def __init__(self, name, breed, toy):\n",
    "        super().__init__(name, species=\"Cat\")\n",
    "        self.breed = breed\n",
    "        self.toy = toy\n",
    "     \n",
    "    def play(self):\n",
    "        print(f\"{self.species} {self.name} plays with {self.toy}\")   \n",
    "        \n",
    "blue = Cat(\"Blue\", \"Siamese\", \"Mouse toy\")\n",
    "print(blue.name)\n",
    "print(blue.species)\n",
    "print(blue.breed)     \n",
    "\n",
    "blue.play()    "
   ]
  },
  {
   "cell_type": "markdown",
   "id": "0ee54d2b",
   "metadata": {},
   "source": []
  }
 ],
 "metadata": {
  "kernelspec": {
   "display_name": "Python 3",
   "language": "python",
   "name": "python3"
  },
  "language_info": {
   "codemirror_mode": {
    "name": "ipython",
    "version": 3
   },
   "file_extension": ".py",
   "mimetype": "text/x-python",
   "name": "python",
   "nbconvert_exporter": "python",
   "pygments_lexer": "ipython3",
   "version": "3.12.6"
  }
 },
 "nbformat": 4,
 "nbformat_minor": 5
}
