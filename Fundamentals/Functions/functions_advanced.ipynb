{
 "cells": [
  {
   "cell_type": "markdown",
   "id": "412d643d",
   "metadata": {},
   "source": [
    "## *args"
   ]
  },
  {
   "cell_type": "code",
   "execution_count": 1,
   "id": "197f62ca",
   "metadata": {},
   "outputs": [
    {
     "data": {
      "text/plain": [
       "15"
      ]
     },
     "execution_count": 1,
     "metadata": {},
     "output_type": "execute_result"
    }
   ],
   "source": [
    "def sum_all_values(*args): ## *args allows for any number of arguments to be passed\n",
    "    \"\"\"This function takes any number of arguments and returns their sum.\"\"\"\n",
    "    total = 0\n",
    "    for nums in args:\n",
    "        total+=nums\n",
    "    return total\n",
    "\n",
    "sum_all_values(1, 2, 3, 4, 5) ## args - converts the passed arguments into a tuple"
   ]
  },
  {
   "cell_type": "code",
   "execution_count": 2,
   "id": "6d454fc4",
   "metadata": {},
   "outputs": [
    {
     "name": "stdout",
     "output_type": "stream",
     "text": [
      "1 2\n"
     ]
    },
    {
     "data": {
      "text/plain": [
       "12"
      ]
     },
     "execution_count": 2,
     "metadata": {},
     "output_type": "execute_result"
    }
   ],
   "source": [
    "## num1 and num2 are positional arguments, *args is a variable-length argument tuple`\n",
    "def sum_all_values(num1, num2, *args): \n",
    "    print(num1, num2)\n",
    "    total = 0\n",
    "    for nums in args:\n",
    "        total+=nums\n",
    "    return total\n",
    "\n",
    "sum_all_values(1, 2, 3, 4, 5)"
   ]
  },
  {
   "cell_type": "markdown",
   "id": "26a1151c",
   "metadata": {},
   "source": [
    "## **kwargs"
   ]
  },
  {
   "cell_type": "code",
   "execution_count": 4,
   "id": "63a430f9",
   "metadata": {},
   "outputs": [
    {
     "name": "stdout",
     "output_type": "stream",
     "text": [
      "10\n",
      "{'second': 2, 'third': 3, 'fourth': 4}\n"
     ]
    }
   ],
   "source": [
    "def func(first, **kwargs): ## **kwargs allows for any number of keyword arguments to be passed - stores as a dict\n",
    "    \"\"\"Function that takes three arguments.\"\"\"\n",
    "    f_val = first\n",
    "    for val in kwargs.values():\n",
    "        f_val += val\n",
    "    print(f_val)\n",
    "    print(kwargs) ## kwargs is a dictionary of the passed keyword arguments - {'second': 2, 'third': 3, 'fourth': 4}\n",
    "    \n",
    "func(1, second=2, third=3, fourth=4) ## kwargs - converts the passed arguments into a dictionary \n",
    "# func(1, 2, 3, 4)   ## This will throw an error because the function expects keyword arguments after the first positional argument"
   ]
  },
  {
   "cell_type": "markdown",
   "id": "b7927a14",
   "metadata": {},
   "source": [
    "## Ordering Parameters (This order matters)\n",
    "### parameters -> *args -> default parameters -> **kwargs"
   ]
  },
  {
   "cell_type": "code",
   "execution_count": null,
   "id": "d03ae905",
   "metadata": {},
   "outputs": [
    {
     "name": "stdout",
     "output_type": "stream",
     "text": [
      "1 2 (3,) John {'first': 'David', 'second': 'Kennedy'}\n"
     ]
    }
   ],
   "source": [
    "def func(a, b, *args, instructor=\"John\", **kwargs): ## instructor is a keyword argument with a default value\n",
    "    \"\"\"Function that takes three arguments.\"\"\"\n",
    "    print(a, b, args, instructor, kwargs) ## args is a tuple of the passed arguments - (3, 4, 5)\n",
    "\n",
    "func(1,2,3, first=\"David\", second=\"Kennedy\") ## args - converts the passed arguments into a tuple"
   ]
  },
  {
   "cell_type": "markdown",
   "id": "d5e12e60",
   "metadata": {},
   "source": [
    "## Tuple unpacking"
   ]
  },
  {
   "cell_type": "code",
   "execution_count": null,
   "id": "85414dde",
   "metadata": {},
   "outputs": [
    {
     "name": "stdout",
     "output_type": "stream",
     "text": [
      "(1, 2, 3, 4, 5)\n",
      "15\n"
     ]
    }
   ],
   "source": [
    "def sum_all_values(*args): ## *args allows for any number of arguments to be passed\n",
    "    \"\"\"This function takes any number of arguments and returns their sum.\"\"\"\n",
    "    print(args)\n",
    "    total = 0\n",
    "    for nums in args:\n",
    "        total+=nums\n",
    "    return total\n",
    "\n",
    "nums = [1,2,3,4,5]\n",
    "\n",
    "## This will throw an error because nums is a list and the function expects separate arguments\n",
    "# sum_all_values(nums) ## ([1,2,3,4,5],)\n",
    "\n",
    "print(sum_all_values(*nums)) ## The * operator unpacks the list and passes each element as a separate argument to the function\n"
   ]
  },
  {
   "cell_type": "markdown",
   "id": "ad13d5be",
   "metadata": {},
   "source": [
    "## Dictionary Unpacking"
   ]
  },
  {
   "cell_type": "code",
   "execution_count": null,
   "id": "ddeff1e5",
   "metadata": {},
   "outputs": [
    {
     "name": "stdout",
     "output_type": "stream",
     "text": [
      "David Kennedy\n"
     ]
    }
   ],
   "source": [
    "def display_names(first_name, last_name): ## *args allows for any number of arguments to be passed\n",
    "    print(f\"{first_name} {last_name}\")\n",
    "    \n",
    "names_dict = {\n",
    "    \"first_name\": \"David\",\n",
    "    \"last_name\": \"Kennedy\",\n",
    "}    \n",
    "\n",
    "# display_names(names_dict) ## This will throw an error because the function expects keyword arguments after the first positional argument\n",
    "display_names(**names_dict) ## The ** operator unpacks the dictionary and passes each key-value pair as a separate keyword argument to the function\n",
    "    "
   ]
  }
 ],
 "metadata": {
  "kernelspec": {
   "display_name": "Python 3",
   "language": "python",
   "name": "python3"
  },
  "language_info": {
   "codemirror_mode": {
    "name": "ipython",
    "version": 3
   },
   "file_extension": ".py",
   "mimetype": "text/x-python",
   "name": "python",
   "nbconvert_exporter": "python",
   "pygments_lexer": "ipython3",
   "version": "3.12.6"
  }
 },
 "nbformat": 4,
 "nbformat_minor": 5
}
