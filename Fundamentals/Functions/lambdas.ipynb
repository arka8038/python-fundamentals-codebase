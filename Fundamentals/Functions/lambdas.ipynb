{
 "cells": [
  {
   "cell_type": "markdown",
   "id": "bbe3fb91",
   "metadata": {},
   "source": [
    "### Lambda Functions\n",
    "Let's us create a function inline (best use case)\n"
   ]
  },
  {
   "cell_type": "code",
   "execution_count": 2,
   "id": "fbbbd197",
   "metadata": {},
   "outputs": [
    {
     "name": "stdout",
     "output_type": "stream",
     "text": [
      "4\n",
      "4\n",
      "5\n"
     ]
    }
   ],
   "source": [
    "def square(num):\n",
    "    \"\"\"\n",
    "    This function takes a number as input and returns its square.\n",
    "    \"\"\"\n",
    "    return num * num\n",
    "\n",
    "sq2 = lambda num: num * num\n",
    "\n",
    "add = lambda a,b: a + b\n",
    "\n",
    "print(square(2))  # Output: 4\n",
    "print(sq2(2))     # Output: 4\n",
    "print(add(2, 3))  # Output: 5"
   ]
  },
  {
   "cell_type": "code",
   "execution_count": 5,
   "id": "ff1e7103",
   "metadata": {},
   "outputs": [
    {
     "name": "stdout",
     "output_type": "stream",
     "text": [
      "square\n",
      "<lambda>\n",
      "<lambda>\n"
     ]
    }
   ],
   "source": [
    "print(square.__name__)\n",
    "print(sq2.__name__)\n",
    "print(add.__name__)"
   ]
  },
  {
   "cell_type": "code",
   "execution_count": null,
   "id": "ea30d48b",
   "metadata": {},
   "outputs": [],
   "source": []
  }
 ],
 "metadata": {
  "kernelspec": {
   "display_name": "Python 3",
   "language": "python",
   "name": "python3"
  },
  "language_info": {
   "codemirror_mode": {
    "name": "ipython",
    "version": 3
   },
   "file_extension": ".py",
   "mimetype": "text/x-python",
   "name": "python",
   "nbconvert_exporter": "python",
   "pygments_lexer": "ipython3",
   "version": "3.12.6"
  }
 },
 "nbformat": 4,
 "nbformat_minor": 5
}
