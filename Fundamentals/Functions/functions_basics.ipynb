{
 "cells": [
  {
   "cell_type": "markdown",
   "id": "a9902ce2",
   "metadata": {},
   "source": [
    "### How to define functions?"
   ]
  },
  {
   "cell_type": "code",
   "execution_count": null,
   "id": "e19816b0",
   "metadata": {},
   "outputs": [],
   "source": [
    "## how to define functions?\n",
    "def say_hi():\n",
    "    print(\"Hi\")\n",
    "    print(\"How do you do?\")\n",
    "    print(\"Isn't the weather nice today?\")\n",
    "    \n",
    "say_hi() # calling the function"
   ]
  },
  {
   "cell_type": "code",
   "execution_count": null,
   "id": "bffbbe74",
   "metadata": {},
   "outputs": [],
   "source": [
    "say_hi ## this is a function object, not a function call - returns the function object itself"
   ]
  },
  {
   "cell_type": "markdown",
   "id": "86c81fcb",
   "metadata": {},
   "source": [
    "### 'return' keyword"
   ]
  },
  {
   "cell_type": "code",
   "execution_count": null,
   "id": "f1f2828f",
   "metadata": {},
   "outputs": [],
   "source": [
    "## \"return\" keyword\n",
    "nums = [1,2,3,4]\n",
    "\n",
    "def sum_list(nums):\n",
    "    sum = 0\n",
    "    for num in nums:\n",
    "        sum += num\n",
    "    return sum  ## exits the function and returns the value to the caller\n",
    "\n",
    "sum_list(nums)"
   ]
  },
  {
   "cell_type": "code",
   "execution_count": null,
   "id": "c93d0ac4",
   "metadata": {},
   "outputs": [],
   "source": [
    "## returns None\n",
    "def square_of():\n",
    "    7**2\n",
    "    \n",
    "result = square_of()   \n",
    "print(result) # None"
   ]
  },
  {
   "cell_type": "markdown",
   "id": "bcc4ab1a",
   "metadata": {},
   "source": [
    "### Function Parameters And Arguments"
   ]
  },
  {
   "cell_type": "code",
   "execution_count": null,
   "id": "7c0a4768",
   "metadata": {},
   "outputs": [],
   "source": [
    "def square(num): ## Parameters - initialised function variables\n",
    "    \"\"\"Returns the square of a number.\"\"\"\n",
    "    return num**2\n",
    "\n",
    "print(square(4))\n",
    "print(square(8))"
   ]
  },
  {
   "cell_type": "code",
   "execution_count": null,
   "id": "56026b6d",
   "metadata": {},
   "outputs": [],
   "source": [
    "## naming parameters\n",
    "\n",
    "def print_full_name(first, last):\n",
    "    \"\"\"Prints the full name.\"\"\"\n",
    "    print(f\"Full name: {first} {last}\")\n",
    "\n",
    "print_full_name(\"John\", \"Doe\")  # Arguments - values passed to the function"
   ]
  },
  {
   "cell_type": "markdown",
   "id": "f94050de",
   "metadata": {},
   "source": [
    "### Common mistakes while using 'return' keyword"
   ]
  },
  {
   "cell_type": "code",
   "execution_count": null,
   "id": "a7f0c2fb",
   "metadata": {},
   "outputs": [],
   "source": [
    "## premature return due to indentation\n",
    "\n",
    "def sum_list(nums):\n",
    "    sum = 0\n",
    "    for num in nums:\n",
    "        sum += num\n",
    "        return sum  # this return statement is indented, so it will exit the function after the first iteration\n",
    "    return sum  # this return statement is indented, so it will exit the function after the first iteration"
   ]
  },
  {
   "cell_type": "code",
   "execution_count": null,
   "id": "75852fab",
   "metadata": {},
   "outputs": [],
   "source": [
    "## unnecessary else statement\n",
    "def is_even(num):\n",
    "    \"\"\"Returns True if the number is even, False otherwise.\"\"\"\n",
    "    if num % 2 == 0:\n",
    "        return True\n",
    "    else:\n",
    "        return False\n",
    "    \n",
    "def is_even(num):\n",
    "    \"\"\"Returns True if the number is even, False otherwise.\"\"\"\n",
    "    return num % 2 == 0    \n",
    "\n",
    "def is_odd(num):\n",
    "    \"\"\"Returns True if the number is odd, False otherwise.\"\"\"\n",
    "    return num % 2 == 1"
   ]
  },
  {
   "cell_type": "markdown",
   "id": "69e27867",
   "metadata": {},
   "source": [
    "### Default Parameters - Can be functions, lists, string, dicts, booleans etc"
   ]
  },
  {
   "cell_type": "code",
   "execution_count": null,
   "id": "df9fba9c",
   "metadata": {},
   "outputs": [],
   "source": [
    "def default_args(a, b=2, c=3):\n",
    "    \"\"\"Function with default arguments.\"\"\"\n",
    "    return a + b + c\n",
    "\n",
    "default_args(1)  # b and c will take default values\n"
   ]
  },
  {
   "cell_type": "code",
   "execution_count": null,
   "id": "5e6f4d87",
   "metadata": {},
   "outputs": [],
   "source": [
    "def add(a, b):\n",
    "    \"\"\"Function to add two numbers.\"\"\"\n",
    "    return a + b\n",
    "\n",
    "def func(a, fn=add):\n",
    "    \"\"\"Function that takes another function as an argument.\"\"\"\n",
    "    return fn(a, 2)\n",
    "\n",
    "print(func(3))  # Uses the default add function\n",
    "print(func(3, lambda x, y: x * y))  # Uses a custom function (multiplication) instead of the default add function"
   ]
  },
  {
   "cell_type": "code",
   "execution_count": null,
   "id": "ffb523d9",
   "metadata": {},
   "outputs": [],
   "source": [
    "## parameters are assigned in order \n",
    "def add(a, b):\n",
    "    \"\"\"Function to add two numbers.\"\"\"\n",
    "    return a + b\n",
    "\n",
    "def func(fn=add, a, b): ## this will raise an error - default parameters must be at the end of the parameter list\n",
    "    \"\"\"Function that takes another function as an argument.\"\"\"\n",
    "    return fn(a, b)"
   ]
  },
  {
   "cell_type": "markdown",
   "id": "a1aa2c45",
   "metadata": {},
   "source": [
    "### Keyword Arguments"
   ]
  },
  {
   "cell_type": "code",
   "execution_count": null,
   "id": "6df9600e",
   "metadata": {},
   "outputs": [],
   "source": [
    "def func(first, second):\n",
    "    \"\"\"Function that takes two arguments.\"\"\"\n",
    "    return first + second\n",
    "\n",
    "print(func(first = \"john\", second = \"doe\"))\n",
    "print(func(second = \"doe\", first = \"john\")) ## order does not matter when you name the parameters\n",
    "print(func(\"doe\", \"john\")) ## order matters when you do not name the parameters\n",
    "    "
   ]
  },
  {
   "cell_type": "markdown",
   "id": "3ed984a0",
   "metadata": {},
   "source": [
    "### Scopes"
   ]
  },
  {
   "cell_type": "code",
   "execution_count": null,
   "id": "3f1caa85",
   "metadata": {},
   "outputs": [],
   "source": [
    "def say_hello():\n",
    "    instructor = \"John\" ## variables defined inside a function are local to that function - function scoped\n",
    "    print(f\"Hello, {instructor}\")\n",
    "\n",
    "say_hello()\n",
    "print(instructor)  # This will raise an error because instructor is not defined in this scope    "
   ]
  },
  {
   "cell_type": "code",
   "execution_count": null,
   "id": "5f4719e0",
   "metadata": {},
   "outputs": [],
   "source": [
    "# global variables\n",
    "total = 1  # Global variable\n",
    "\n",
    "def say_hello():\n",
    "    total += 2 ## variables defined inside a function are local to that function - function scoped\n",
    "    print(f\"Hello, {total}\")\n",
    "    \n",
    "print(say_hello())  # This will raise an error because total is a global variable and cannot be modified inside the function without declaring it as global\n"
   ]
  },
  {
   "cell_type": "code",
   "execution_count": null,
   "id": "bd40bfaa",
   "metadata": {},
   "outputs": [
    {
     "name": "stdout",
     "output_type": "stream",
     "text": [
      "Hello, 3\n",
      "None\n"
     ]
    }
   ],
   "source": [
    "# using 'global' keyword\n",
    "total = 1  # Global variable\n",
    "\n",
    "def say_hello():\n",
    "    global total # Declare total as global to modify it\n",
    "    total += 2 ## variables defined inside a function are local to that function - function scoped\n",
    "    print(f\"Hello, {total}\")\n",
    "    \n",
    "print(say_hello()) # To modify a global variable inside a function, you need to declare it as global"
   ]
  },
  {
   "cell_type": "code",
   "execution_count": null,
   "id": "4192242d",
   "metadata": {},
   "outputs": [
    {
     "name": "stdout",
     "output_type": "stream",
     "text": [
      "John\n"
     ]
    }
   ],
   "source": [
    "name = \"John\"\n",
    "\n",
    "def prt():\n",
    "    print(name) ## can access variables outside but cannot modify them\n",
    "    # name = \"Doe\"  # This will raise an error because name is not defined in this scope\n",
    "    \n",
    "prt() # This will print \"John\" because the function uses the value of the variable passed to it as an argument"
   ]
  },
  {
   "cell_type": "code",
   "execution_count": 21,
   "id": "0515e9d5",
   "metadata": {},
   "outputs": [
    {
     "name": "stdout",
     "output_type": "stream",
     "text": [
      "Inner: nonlocal\n",
      "Outer: nonlocal\n",
      "None\n"
     ]
    }
   ],
   "source": [
    "# nonlocal variables\n",
    "def outer_function():\n",
    "    x = \"local\"  # This is a local variable in the outer function\n",
    "\n",
    "    def inner_function():\n",
    "        nonlocal x  # Declare x as nonlocal to modify it\n",
    "        x = \"nonlocal\"  # This will modify the variable in the outer function\n",
    "        print(\"Inner:\", x)\n",
    "\n",
    "    inner_function()\n",
    "    print(\"Outer:\", x)\n",
    "print(outer_function())  # This will print \"Inner: nonlocal\" and \"Outer: nonlocal\" because the inner function modifies the variable in the outer function    "
   ]
  },
  {
   "cell_type": "markdown",
   "id": "ad813085",
   "metadata": {},
   "source": [
    "### Doc Strings"
   ]
  },
  {
   "cell_type": "code",
   "execution_count": null,
   "id": "a3ded0ba",
   "metadata": {},
   "outputs": [
    {
     "name": "stdout",
     "output_type": "stream",
     "text": [
      "8\n"
     ]
    }
   ],
   "source": [
    "def exponent(num, power):\n",
    "    \"\"\"Returns the exponent of a number.\"\"\" ## docstring - describes the function\n",
    "    return num ** power\n",
    "print(exponent(2, 3))  # This will print 8 because 2^3 = 8"
   ]
  },
  {
   "cell_type": "code",
   "execution_count": null,
   "id": "9386a043",
   "metadata": {},
   "outputs": [
    {
     "data": {
      "text/plain": [
       "'print'"
      ]
     },
     "execution_count": 27,
     "metadata": {},
     "output_type": "execute_result"
    }
   ],
   "source": [
    "print.__doc__ # __doc__ is a special attribute that contains the docstring of the function"
   ]
  },
  {
   "cell_type": "code",
   "execution_count": 26,
   "id": "9627355e",
   "metadata": {},
   "outputs": [
    {
     "data": {
      "text/plain": [
       "'Return random integer in range [a, b], including both end points.\\n        '"
      ]
     },
     "execution_count": 26,
     "metadata": {},
     "output_type": "execute_result"
    }
   ],
   "source": [
    "import random\n",
    "random.randint.__doc__"
   ]
  }
 ],
 "metadata": {
  "kernelspec": {
   "display_name": "Python 3",
   "language": "python",
   "name": "python3"
  },
  "language_info": {
   "codemirror_mode": {
    "name": "ipython",
    "version": 3
   },
   "file_extension": ".py",
   "mimetype": "text/x-python",
   "name": "python",
   "nbconvert_exporter": "python",
   "pygments_lexer": "ipython3",
   "version": "3.12.6"
  }
 },
 "nbformat": 4,
 "nbformat_minor": 5
}
