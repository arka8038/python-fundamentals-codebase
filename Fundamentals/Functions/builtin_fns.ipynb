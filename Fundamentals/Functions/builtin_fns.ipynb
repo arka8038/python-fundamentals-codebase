{
 "cells": [
  {
   "cell_type": "markdown",
   "id": "6e3ac6ff",
   "metadata": {},
   "source": [
    "### Map"
   ]
  },
  {
   "cell_type": "code",
   "execution_count": 8,
   "id": "78ef5acc",
   "metadata": {},
   "outputs": [
    {
     "name": "stdout",
     "output_type": "stream",
     "text": [
      "<map object at 0x000001EAAF672C20>\n",
      "(4, 6, 8, 10, 12)\n",
      "[]\n",
      "set()\n"
     ]
    }
   ],
   "source": [
    "nums = [2,3,4,5,6]\n",
    "\n",
    "doubles = map(lambda x: x*2, nums) ## doubles - iterable object, not a list\n",
    "print(doubles) ## doubles is an iterator, so it can only be used once\n",
    "\n",
    "print(tuple(doubles)) ## tuple is an iterator, so it can only be used once\n",
    "print(list(doubles)) ## list is an iterator, so it can only be used once\n",
    "print(set(doubles)) ## set is an iterator, so it can only be used once\n"
   ]
  },
  {
   "cell_type": "code",
   "execution_count": 12,
   "id": "0466b088",
   "metadata": {},
   "outputs": [
    {
     "name": "stdout",
     "output_type": "stream",
     "text": [
      "<map object at 0x000001EAAF783A60>\n",
      "['JOHN', 'JANE', 'JACK', 'JILL', 'JOE']\n"
     ]
    }
   ],
   "source": [
    "people = [\"John\", \"Jane\", \"Jack\", \"Jill\", \"Joe\"]\n",
    "upper = map(lambda x: x.upper(), people) ## upper - iterable object, not a list\n",
    "print(upper) ## upper is an iterator, so it can only be used once\n",
    "\n",
    "print(list(upper)) ## list is an iterator, so it can only be used once"
   ]
  },
  {
   "cell_type": "code",
   "execution_count": 13,
   "id": "19695e7a",
   "metadata": {},
   "outputs": [
    {
     "name": "stdout",
     "output_type": "stream",
     "text": [
      "<map object at 0x000001EAAF782170>\n",
      "['Doe', 'Smith', 'Johnson', 'Brown', 'Davis']\n"
     ]
    }
   ],
   "source": [
    "names = [\n",
    "    {\"first\": \"John\", \"last\": \"Doe\"},\n",
    "    {\"first\": \"Jane\", \"last\": \"Smith\"},\n",
    "    {\"first\": \"Jack\", \"last\": \"Johnson\"},\n",
    "    {\"first\": \"Jill\", \"last\": \"Brown\"},\n",
    "    {\"first\": \"Joe\", \"last\": \"Davis\"},\n",
    "]\n",
    "\n",
    "last_names = map(lambda x: x[\"last\"], names) ## last_names - iterable object, not a list\n",
    "print(last_names) ## last_names is an iterator, so it can only be used once\n",
    "\n",
    "print(list(last_names)) ## list is an iterator, so it can only be used once"
   ]
  },
  {
   "cell_type": "markdown",
   "id": "b990c3f1",
   "metadata": {},
   "source": [
    "### Filter"
   ]
  },
  {
   "cell_type": "code",
   "execution_count": 23,
   "id": "3147b6c3",
   "metadata": {},
   "outputs": [
    {
     "name": "stdout",
     "output_type": "stream",
     "text": [
      "<filter object at 0x000001EAAF7A62F0>\n",
      "['John', 'Jane', 'Jack', 'Jill', 'Joe']\n"
     ]
    }
   ],
   "source": [
    "name = [\"John\", \"Jane\", \"Jack\", \"Jill\", \"Joe\"]\n",
    "\n",
    "with_j = filter(lambda name: name[0] == \"J\", name) ## with_j - iterable object, not a list\n",
    "print(with_j) ## with_j is an iterator, so it can only be used once\n",
    "\n",
    "print(list(with_j)) ## list is an iterator, so it can only be used once"
   ]
  },
  {
   "cell_type": "code",
   "execution_count": null,
   "id": "6db11e9e",
   "metadata": {},
   "outputs": [
    {
     "name": "stdout",
     "output_type": "stream",
     "text": [
      "<filter object at 0x000001EAAF7A4850>\n",
      "[{'name': 'Jane', 'tweets': []}, {'name': 'Jill', 'tweets': []}]\n",
      "[{'name': 'Jane', 'tweets': []}, {'name': 'Jill', 'tweets': []}]\n"
     ]
    }
   ],
   "source": [
    "users = [\n",
    "    {\"name\": \"John\",\"tweets\": [\"i love python\", \"python is great\"]},\n",
    "    {\"name\": \"Jane\",\"tweets\": []},\n",
    "    {\"name\": \"Jack\",\"tweets\": [\"i love python\", \"python is great\"]},\n",
    "    {\"name\": \"Jill\",\"tweets\": []},\n",
    "    {\"name\": \"Joe\",\"tweets\": [\"i love python\", \"python is great\"]},\n",
    "]\n",
    "\n",
    "## filter users with no tweets\n",
    "no_tweets = filter(lambda user: not user['tweets'], users) ## no_tweets - iterable object, not a list\n",
    "print(no_tweets) ## no_tweets is an iterator, so it can only be used once\n",
    "\n",
    "print(list(no_tweets)) ## list is an iterator, so it can only be used once\n",
    "\n",
    "## better approach - using list comprehension\n",
    "print([user for user in users if not user['tweets']]) ## list comprehension to filter users with no tweets"
   ]
  },
  {
   "cell_type": "markdown",
   "id": "b2cc5dc4",
   "metadata": {},
   "source": [
    "### Filter with Map"
   ]
  },
  {
   "cell_type": "code",
   "execution_count": null,
   "id": "513f6d6c",
   "metadata": {},
   "outputs": [
    {
     "name": "stdout",
     "output_type": "stream",
     "text": [
      "['Your instructor is Fido', 'Your instructor is Spot']\n"
     ]
    }
   ],
   "source": [
    "## Given a list of names\n",
    "# return a new list with the string \"Your instructor is\" + each value in the list\n",
    "## but only if the value is less than 5 chars\n",
    "\n",
    "names1 = [\"Lassie\", \"Rover\", \"Fido\", \"Spot\", \"Fluffy\"]\n",
    "\n",
    "ans = map(lambda name: f\"Your instructor is {name}\", filter(lambda value: len(value) < 5, names1))\n",
    "print(list(ans))\n"
   ]
  },
  {
   "cell_type": "code",
   "execution_count": null,
   "id": "675bbc41",
   "metadata": {},
   "outputs": [
    {
     "name": "stdout",
     "output_type": "stream",
     "text": [
      "['JANE', 'JILL']\n"
     ]
    }
   ],
   "source": [
    "users = [\n",
    "    {\"name\": \"John\",\"tweets\": [\"i love python\", \"python is great\"]},\n",
    "    {\"name\": \"Jane\",\"tweets\": []},\n",
    "    {\"name\": \"Jack\",\"tweets\": [\"i love python\", \"python is great\"]},\n",
    "    {\"name\": \"Jill\",\"tweets\": []},\n",
    "    {\"name\": \"Joe\",\"tweets\": [\"i love python\", \"python is great\"]},\n",
    "]\n",
    "\n",
    "## filter users with no tweets\n",
    "## map the users to uppercase\n",
    "\n",
    "upper = list(map(lambda user: user[\"name\"].upper(), \n",
    "                 filter(lambda user: not user[\"tweets\"], \n",
    "                        users)))\n",
    "print(upper)"
   ]
  },
  {
   "cell_type": "code",
   "execution_count": null,
   "id": "1a57af6a",
   "metadata": {},
   "outputs": [],
   "source": []
  }
 ],
 "metadata": {
  "kernelspec": {
   "display_name": "Python 3",
   "language": "python",
   "name": "python3"
  },
  "language_info": {
   "codemirror_mode": {
    "name": "ipython",
    "version": 3
   },
   "file_extension": ".py",
   "mimetype": "text/x-python",
   "name": "python",
   "nbconvert_exporter": "python",
   "pygments_lexer": "ipython3",
   "version": "3.12.6"
  }
 },
 "nbformat": 4,
 "nbformat_minor": 5
}
